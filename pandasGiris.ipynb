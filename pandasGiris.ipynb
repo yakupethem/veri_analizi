{
 "cells": [
  {
   "cell_type": "code",
   "execution_count": 142,
   "metadata": {},
   "outputs": [],
   "source": [
    "import pandas as pd\n",
    "import numpy as np"
   ]
  },
  {
   "cell_type": "code",
   "execution_count": 108,
   "metadata": {},
   "outputs": [
    {
     "data": {
      "text/plain": [
       "ali      25\n",
       "veli     30\n",
       "büşra    20\n",
       "dtype: int64"
      ]
     },
     "execution_count": 108,
     "metadata": {},
     "output_type": "execute_result"
    }
   ],
   "source": [
    "sozluk={\"ali\":25,\"veli\":30,\"büşra\":20}\n",
    "pd.Series(sozluk)"
   ]
  },
  {
   "cell_type": "code",
   "execution_count": 109,
   "metadata": {},
   "outputs": [
    {
     "data": {
      "text/plain": [
       "ali      25\n",
       "veli     30\n",
       "büşra    20\n",
       "dtype: int64"
      ]
     },
     "execution_count": 109,
     "metadata": {},
     "output_type": "execute_result"
    }
   ],
   "source": [
    "isimler=[\"ali\",\"veli\",\"büşra\"]\n",
    "yaslar=[25,30,20]\n",
    "pd.Series(data=yaslar,index=isimler)"
   ]
  },
  {
   "cell_type": "code",
   "execution_count": 110,
   "metadata": {},
   "outputs": [
    {
     "data": {
      "text/plain": [
       "ali      19\n",
       "veli     12\n",
       "büşra    12\n",
       "dtype: int64"
      ]
     },
     "execution_count": 110,
     "metadata": {},
     "output_type": "execute_result"
    }
   ],
   "source": [
    "sonuc1=[10,8,4]\n",
    "sonuc2=[9,4,8]\n",
    "pd.Series(sonuc1,isimler)+pd.Series(sonuc2,isimler)"
   ]
  },
  {
   "cell_type": "code",
   "execution_count": 111,
   "metadata": {},
   "outputs": [
    {
     "data": {
      "text/plain": [
       "ali      14.0\n",
       "büşra     NaN\n",
       "veli      NaN\n",
       "yako      NaN\n",
       "dtype: float64"
      ]
     },
     "execution_count": 111,
     "metadata": {},
     "output_type": "execute_result"
    }
   ],
   "source": [
    "isimler2=[\"ali\",\"yako\"]\n",
    "sonuc3=[5,7]\n",
    "pd.Series(sonuc3,isimler2)+pd.Series(sonuc2,isimler)"
   ]
  },
  {
   "cell_type": "code",
   "execution_count": 112,
   "metadata": {},
   "outputs": [],
   "source": [
    "veri=np.random.randn(4,3)\n",
    "dataFrame=pd.DataFrame(veri)"
   ]
  },
  {
   "cell_type": "code",
   "execution_count": 113,
   "metadata": {},
   "outputs": [
    {
     "data": {
      "text/html": [
       "<div>\n",
       "<style scoped>\n",
       "    .dataframe tbody tr th:only-of-type {\n",
       "        vertical-align: middle;\n",
       "    }\n",
       "\n",
       "    .dataframe tbody tr th {\n",
       "        vertical-align: top;\n",
       "    }\n",
       "\n",
       "    .dataframe thead th {\n",
       "        text-align: right;\n",
       "    }\n",
       "</style>\n",
       "<table border=\"1\" class=\"dataframe\">\n",
       "  <thead>\n",
       "    <tr style=\"text-align: right;\">\n",
       "      <th></th>\n",
       "      <th>0</th>\n",
       "      <th>1</th>\n",
       "      <th>2</th>\n",
       "    </tr>\n",
       "  </thead>\n",
       "  <tbody>\n",
       "    <tr>\n",
       "      <th>0</th>\n",
       "      <td>0.357848</td>\n",
       "      <td>-0.383827</td>\n",
       "      <td>0.385672</td>\n",
       "    </tr>\n",
       "    <tr>\n",
       "      <th>1</th>\n",
       "      <td>0.126924</td>\n",
       "      <td>1.747282</td>\n",
       "      <td>0.216885</td>\n",
       "    </tr>\n",
       "    <tr>\n",
       "      <th>2</th>\n",
       "      <td>-1.609238</td>\n",
       "      <td>-1.471568</td>\n",
       "      <td>-0.203738</td>\n",
       "    </tr>\n",
       "    <tr>\n",
       "      <th>3</th>\n",
       "      <td>0.237109</td>\n",
       "      <td>0.942797</td>\n",
       "      <td>1.096043</td>\n",
       "    </tr>\n",
       "  </tbody>\n",
       "</table>\n",
       "</div>"
      ],
      "text/plain": [
       "          0         1         2\n",
       "0  0.357848 -0.383827  0.385672\n",
       "1  0.126924  1.747282  0.216885\n",
       "2 -1.609238 -1.471568 -0.203738\n",
       "3  0.237109  0.942797  1.096043"
      ]
     },
     "execution_count": 113,
     "metadata": {},
     "output_type": "execute_result"
    }
   ],
   "source": [
    "dataFrame"
   ]
  },
  {
   "cell_type": "raw",
   "metadata": {},
   "source": []
  },
  {
   "cell_type": "code",
   "execution_count": 114,
   "metadata": {},
   "outputs": [],
   "source": [
    "yenidataframe=pd.DataFrame(veri,index=[\"ali\",\"veli\",\"büşra\",\"yako\"],columns=[\"yas\",\"maas\",\"süre\"])"
   ]
  },
  {
   "cell_type": "code",
   "execution_count": 115,
   "metadata": {},
   "outputs": [
    {
     "data": {
      "text/html": [
       "<div>\n",
       "<style scoped>\n",
       "    .dataframe tbody tr th:only-of-type {\n",
       "        vertical-align: middle;\n",
       "    }\n",
       "\n",
       "    .dataframe tbody tr th {\n",
       "        vertical-align: top;\n",
       "    }\n",
       "\n",
       "    .dataframe thead th {\n",
       "        text-align: right;\n",
       "    }\n",
       "</style>\n",
       "<table border=\"1\" class=\"dataframe\">\n",
       "  <thead>\n",
       "    <tr style=\"text-align: right;\">\n",
       "      <th></th>\n",
       "      <th>yas</th>\n",
       "      <th>maas</th>\n",
       "      <th>süre</th>\n",
       "    </tr>\n",
       "  </thead>\n",
       "  <tbody>\n",
       "    <tr>\n",
       "      <th>ali</th>\n",
       "      <td>0.357848</td>\n",
       "      <td>-0.383827</td>\n",
       "      <td>0.385672</td>\n",
       "    </tr>\n",
       "    <tr>\n",
       "      <th>veli</th>\n",
       "      <td>0.126924</td>\n",
       "      <td>1.747282</td>\n",
       "      <td>0.216885</td>\n",
       "    </tr>\n",
       "    <tr>\n",
       "      <th>büşra</th>\n",
       "      <td>-1.609238</td>\n",
       "      <td>-1.471568</td>\n",
       "      <td>-0.203738</td>\n",
       "    </tr>\n",
       "    <tr>\n",
       "      <th>yako</th>\n",
       "      <td>0.237109</td>\n",
       "      <td>0.942797</td>\n",
       "      <td>1.096043</td>\n",
       "    </tr>\n",
       "  </tbody>\n",
       "</table>\n",
       "</div>"
      ],
      "text/plain": [
       "            yas      maas      süre\n",
       "ali    0.357848 -0.383827  0.385672\n",
       "veli   0.126924  1.747282  0.216885\n",
       "büşra -1.609238 -1.471568 -0.203738\n",
       "yako   0.237109  0.942797  1.096043"
      ]
     },
     "execution_count": 115,
     "metadata": {},
     "output_type": "execute_result"
    }
   ],
   "source": [
    "yenidataframe"
   ]
  },
  {
   "cell_type": "code",
   "execution_count": 116,
   "metadata": {},
   "outputs": [
    {
     "data": {
      "text/plain": [
       "ali     -0.383827\n",
       "veli     1.747282\n",
       "büşra   -1.471568\n",
       "yako     0.942797\n",
       "Name: maas, dtype: float64"
      ]
     },
     "execution_count": 116,
     "metadata": {},
     "output_type": "execute_result"
    }
   ],
   "source": [
    "yenidataframe[\"maas\"]"
   ]
  },
  {
   "cell_type": "code",
   "execution_count": 117,
   "metadata": {},
   "outputs": [
    {
     "data": {
      "text/html": [
       "<div>\n",
       "<style scoped>\n",
       "    .dataframe tbody tr th:only-of-type {\n",
       "        vertical-align: middle;\n",
       "    }\n",
       "\n",
       "    .dataframe tbody tr th {\n",
       "        vertical-align: top;\n",
       "    }\n",
       "\n",
       "    .dataframe thead th {\n",
       "        text-align: right;\n",
       "    }\n",
       "</style>\n",
       "<table border=\"1\" class=\"dataframe\">\n",
       "  <thead>\n",
       "    <tr style=\"text-align: right;\">\n",
       "      <th></th>\n",
       "      <th>yas</th>\n",
       "      <th>süre</th>\n",
       "    </tr>\n",
       "  </thead>\n",
       "  <tbody>\n",
       "    <tr>\n",
       "      <th>ali</th>\n",
       "      <td>0.357848</td>\n",
       "      <td>0.385672</td>\n",
       "    </tr>\n",
       "    <tr>\n",
       "      <th>veli</th>\n",
       "      <td>0.126924</td>\n",
       "      <td>0.216885</td>\n",
       "    </tr>\n",
       "    <tr>\n",
       "      <th>büşra</th>\n",
       "      <td>-1.609238</td>\n",
       "      <td>-0.203738</td>\n",
       "    </tr>\n",
       "    <tr>\n",
       "      <th>yako</th>\n",
       "      <td>0.237109</td>\n",
       "      <td>1.096043</td>\n",
       "    </tr>\n",
       "  </tbody>\n",
       "</table>\n",
       "</div>"
      ],
      "text/plain": [
       "            yas      süre\n",
       "ali    0.357848  0.385672\n",
       "veli   0.126924  0.216885\n",
       "büşra -1.609238 -0.203738\n",
       "yako   0.237109  1.096043"
      ]
     },
     "execution_count": 117,
     "metadata": {},
     "output_type": "execute_result"
    }
   ],
   "source": [
    "yenidataframe[[\"yas\",\"süre\"]]"
   ]
  },
  {
   "cell_type": "code",
   "execution_count": 118,
   "metadata": {},
   "outputs": [
    {
     "data": {
      "text/plain": [
       "yas     0.237109\n",
       "maas    0.942797\n",
       "süre    1.096043\n",
       "Name: yako, dtype: float64"
      ]
     },
     "execution_count": 118,
     "metadata": {},
     "output_type": "execute_result"
    }
   ],
   "source": [
    "yenidataframe.loc[\"yako\"]"
   ]
  },
  {
   "cell_type": "code",
   "execution_count": 119,
   "metadata": {},
   "outputs": [
    {
     "data": {
      "text/plain": [
       "yas     0.126924\n",
       "maas    1.747282\n",
       "süre    0.216885\n",
       "Name: veli, dtype: float64"
      ]
     },
     "execution_count": 119,
     "metadata": {},
     "output_type": "execute_result"
    }
   ],
   "source": [
    "yenidataframe.iloc[1]"
   ]
  },
  {
   "cell_type": "code",
   "execution_count": 120,
   "metadata": {},
   "outputs": [],
   "source": [
    "yenidataframe[\"izin\"]=yenidataframe[\"süre\"]*2"
   ]
  },
  {
   "cell_type": "code",
   "execution_count": 121,
   "metadata": {},
   "outputs": [
    {
     "data": {
      "text/html": [
       "<div>\n",
       "<style scoped>\n",
       "    .dataframe tbody tr th:only-of-type {\n",
       "        vertical-align: middle;\n",
       "    }\n",
       "\n",
       "    .dataframe tbody tr th {\n",
       "        vertical-align: top;\n",
       "    }\n",
       "\n",
       "    .dataframe thead th {\n",
       "        text-align: right;\n",
       "    }\n",
       "</style>\n",
       "<table border=\"1\" class=\"dataframe\">\n",
       "  <thead>\n",
       "    <tr style=\"text-align: right;\">\n",
       "      <th></th>\n",
       "      <th>yas</th>\n",
       "      <th>maas</th>\n",
       "      <th>süre</th>\n",
       "      <th>izin</th>\n",
       "    </tr>\n",
       "  </thead>\n",
       "  <tbody>\n",
       "    <tr>\n",
       "      <th>ali</th>\n",
       "      <td>0.357848</td>\n",
       "      <td>-0.383827</td>\n",
       "      <td>0.385672</td>\n",
       "      <td>0.771344</td>\n",
       "    </tr>\n",
       "    <tr>\n",
       "      <th>veli</th>\n",
       "      <td>0.126924</td>\n",
       "      <td>1.747282</td>\n",
       "      <td>0.216885</td>\n",
       "      <td>0.433770</td>\n",
       "    </tr>\n",
       "    <tr>\n",
       "      <th>büşra</th>\n",
       "      <td>-1.609238</td>\n",
       "      <td>-1.471568</td>\n",
       "      <td>-0.203738</td>\n",
       "      <td>-0.407476</td>\n",
       "    </tr>\n",
       "    <tr>\n",
       "      <th>yako</th>\n",
       "      <td>0.237109</td>\n",
       "      <td>0.942797</td>\n",
       "      <td>1.096043</td>\n",
       "      <td>2.192087</td>\n",
       "    </tr>\n",
       "  </tbody>\n",
       "</table>\n",
       "</div>"
      ],
      "text/plain": [
       "            yas      maas      süre      izin\n",
       "ali    0.357848 -0.383827  0.385672  0.771344\n",
       "veli   0.126924  1.747282  0.216885  0.433770\n",
       "büşra -1.609238 -1.471568 -0.203738 -0.407476\n",
       "yako   0.237109  0.942797  1.096043  2.192087"
      ]
     },
     "execution_count": 121,
     "metadata": {},
     "output_type": "execute_result"
    }
   ],
   "source": [
    "yenidataframe"
   ]
  },
  {
   "cell_type": "code",
   "execution_count": 122,
   "metadata": {},
   "outputs": [
    {
     "data": {
      "text/html": [
       "<div>\n",
       "<style scoped>\n",
       "    .dataframe tbody tr th:only-of-type {\n",
       "        vertical-align: middle;\n",
       "    }\n",
       "\n",
       "    .dataframe tbody tr th {\n",
       "        vertical-align: top;\n",
       "    }\n",
       "\n",
       "    .dataframe thead th {\n",
       "        text-align: right;\n",
       "    }\n",
       "</style>\n",
       "<table border=\"1\" class=\"dataframe\">\n",
       "  <thead>\n",
       "    <tr style=\"text-align: right;\">\n",
       "      <th></th>\n",
       "      <th>yas</th>\n",
       "      <th>maas</th>\n",
       "      <th>süre</th>\n",
       "    </tr>\n",
       "  </thead>\n",
       "  <tbody>\n",
       "    <tr>\n",
       "      <th>ali</th>\n",
       "      <td>0.357848</td>\n",
       "      <td>-0.383827</td>\n",
       "      <td>0.385672</td>\n",
       "    </tr>\n",
       "    <tr>\n",
       "      <th>veli</th>\n",
       "      <td>0.126924</td>\n",
       "      <td>1.747282</td>\n",
       "      <td>0.216885</td>\n",
       "    </tr>\n",
       "    <tr>\n",
       "      <th>büşra</th>\n",
       "      <td>-1.609238</td>\n",
       "      <td>-1.471568</td>\n",
       "      <td>-0.203738</td>\n",
       "    </tr>\n",
       "    <tr>\n",
       "      <th>yako</th>\n",
       "      <td>0.237109</td>\n",
       "      <td>0.942797</td>\n",
       "      <td>1.096043</td>\n",
       "    </tr>\n",
       "  </tbody>\n",
       "</table>\n",
       "</div>"
      ],
      "text/plain": [
       "            yas      maas      süre\n",
       "ali    0.357848 -0.383827  0.385672\n",
       "veli   0.126924  1.747282  0.216885\n",
       "büşra -1.609238 -1.471568 -0.203738\n",
       "yako   0.237109  0.942797  1.096043"
      ]
     },
     "execution_count": 122,
     "metadata": {},
     "output_type": "execute_result"
    }
   ],
   "source": [
    "yenidataframe.drop(\"izin\",axis=1)"
   ]
  },
  {
   "cell_type": "code",
   "execution_count": 123,
   "metadata": {},
   "outputs": [
    {
     "data": {
      "text/html": [
       "<div>\n",
       "<style scoped>\n",
       "    .dataframe tbody tr th:only-of-type {\n",
       "        vertical-align: middle;\n",
       "    }\n",
       "\n",
       "    .dataframe tbody tr th {\n",
       "        vertical-align: top;\n",
       "    }\n",
       "\n",
       "    .dataframe thead th {\n",
       "        text-align: right;\n",
       "    }\n",
       "</style>\n",
       "<table border=\"1\" class=\"dataframe\">\n",
       "  <thead>\n",
       "    <tr style=\"text-align: right;\">\n",
       "      <th></th>\n",
       "      <th>yas</th>\n",
       "      <th>maas</th>\n",
       "      <th>süre</th>\n",
       "      <th>izin</th>\n",
       "    </tr>\n",
       "  </thead>\n",
       "  <tbody>\n",
       "    <tr>\n",
       "      <th>ali</th>\n",
       "      <td>0.357848</td>\n",
       "      <td>-0.383827</td>\n",
       "      <td>0.385672</td>\n",
       "      <td>0.771344</td>\n",
       "    </tr>\n",
       "    <tr>\n",
       "      <th>büşra</th>\n",
       "      <td>-1.609238</td>\n",
       "      <td>-1.471568</td>\n",
       "      <td>-0.203738</td>\n",
       "      <td>-0.407476</td>\n",
       "    </tr>\n",
       "    <tr>\n",
       "      <th>yako</th>\n",
       "      <td>0.237109</td>\n",
       "      <td>0.942797</td>\n",
       "      <td>1.096043</td>\n",
       "      <td>2.192087</td>\n",
       "    </tr>\n",
       "  </tbody>\n",
       "</table>\n",
       "</div>"
      ],
      "text/plain": [
       "            yas      maas      süre      izin\n",
       "ali    0.357848 -0.383827  0.385672  0.771344\n",
       "büşra -1.609238 -1.471568 -0.203738 -0.407476\n",
       "yako   0.237109  0.942797  1.096043  2.192087"
      ]
     },
     "execution_count": 123,
     "metadata": {},
     "output_type": "execute_result"
    }
   ],
   "source": [
    "yenidataframe.drop(\"veli\")"
   ]
  },
  {
   "cell_type": "code",
   "execution_count": 124,
   "metadata": {},
   "outputs": [
    {
     "data": {
      "text/html": [
       "<div>\n",
       "<style scoped>\n",
       "    .dataframe tbody tr th:only-of-type {\n",
       "        vertical-align: middle;\n",
       "    }\n",
       "\n",
       "    .dataframe tbody tr th {\n",
       "        vertical-align: top;\n",
       "    }\n",
       "\n",
       "    .dataframe thead th {\n",
       "        text-align: right;\n",
       "    }\n",
       "</style>\n",
       "<table border=\"1\" class=\"dataframe\">\n",
       "  <thead>\n",
       "    <tr style=\"text-align: right;\">\n",
       "      <th></th>\n",
       "      <th>yas</th>\n",
       "      <th>maas</th>\n",
       "      <th>süre</th>\n",
       "      <th>izin</th>\n",
       "    </tr>\n",
       "  </thead>\n",
       "  <tbody>\n",
       "    <tr>\n",
       "      <th>ali</th>\n",
       "      <td>0.357848</td>\n",
       "      <td>-0.383827</td>\n",
       "      <td>0.385672</td>\n",
       "      <td>0.771344</td>\n",
       "    </tr>\n",
       "    <tr>\n",
       "      <th>veli</th>\n",
       "      <td>0.126924</td>\n",
       "      <td>1.747282</td>\n",
       "      <td>0.216885</td>\n",
       "      <td>0.433770</td>\n",
       "    </tr>\n",
       "    <tr>\n",
       "      <th>büşra</th>\n",
       "      <td>-1.609238</td>\n",
       "      <td>-1.471568</td>\n",
       "      <td>-0.203738</td>\n",
       "      <td>-0.407476</td>\n",
       "    </tr>\n",
       "    <tr>\n",
       "      <th>yako</th>\n",
       "      <td>0.237109</td>\n",
       "      <td>0.942797</td>\n",
       "      <td>1.096043</td>\n",
       "      <td>2.192087</td>\n",
       "    </tr>\n",
       "  </tbody>\n",
       "</table>\n",
       "</div>"
      ],
      "text/plain": [
       "            yas      maas      süre      izin\n",
       "ali    0.357848 -0.383827  0.385672  0.771344\n",
       "veli   0.126924  1.747282  0.216885  0.433770\n",
       "büşra -1.609238 -1.471568 -0.203738 -0.407476\n",
       "yako   0.237109  0.942797  1.096043  2.192087"
      ]
     },
     "execution_count": 124,
     "metadata": {},
     "output_type": "execute_result"
    }
   ],
   "source": [
    "yenidataframe"
   ]
  },
  {
   "cell_type": "code",
   "execution_count": 125,
   "metadata": {},
   "outputs": [],
   "source": [
    "yenidataframe.drop(\"izin\",axis=1,inplace=True)"
   ]
  },
  {
   "cell_type": "code",
   "execution_count": 126,
   "metadata": {},
   "outputs": [
    {
     "data": {
      "text/html": [
       "<div>\n",
       "<style scoped>\n",
       "    .dataframe tbody tr th:only-of-type {\n",
       "        vertical-align: middle;\n",
       "    }\n",
       "\n",
       "    .dataframe tbody tr th {\n",
       "        vertical-align: top;\n",
       "    }\n",
       "\n",
       "    .dataframe thead th {\n",
       "        text-align: right;\n",
       "    }\n",
       "</style>\n",
       "<table border=\"1\" class=\"dataframe\">\n",
       "  <thead>\n",
       "    <tr style=\"text-align: right;\">\n",
       "      <th></th>\n",
       "      <th>yas</th>\n",
       "      <th>maas</th>\n",
       "      <th>süre</th>\n",
       "    </tr>\n",
       "  </thead>\n",
       "  <tbody>\n",
       "    <tr>\n",
       "      <th>ali</th>\n",
       "      <td>0.357848</td>\n",
       "      <td>-0.383827</td>\n",
       "      <td>0.385672</td>\n",
       "    </tr>\n",
       "    <tr>\n",
       "      <th>veli</th>\n",
       "      <td>0.126924</td>\n",
       "      <td>1.747282</td>\n",
       "      <td>0.216885</td>\n",
       "    </tr>\n",
       "    <tr>\n",
       "      <th>büşra</th>\n",
       "      <td>-1.609238</td>\n",
       "      <td>-1.471568</td>\n",
       "      <td>-0.203738</td>\n",
       "    </tr>\n",
       "    <tr>\n",
       "      <th>yako</th>\n",
       "      <td>0.237109</td>\n",
       "      <td>0.942797</td>\n",
       "      <td>1.096043</td>\n",
       "    </tr>\n",
       "  </tbody>\n",
       "</table>\n",
       "</div>"
      ],
      "text/plain": [
       "            yas      maas      süre\n",
       "ali    0.357848 -0.383827  0.385672\n",
       "veli   0.126924  1.747282  0.216885\n",
       "büşra -1.609238 -1.471568 -0.203738\n",
       "yako   0.237109  0.942797  1.096043"
      ]
     },
     "execution_count": 126,
     "metadata": {},
     "output_type": "execute_result"
    }
   ],
   "source": [
    "yenidataframe"
   ]
  },
  {
   "cell_type": "code",
   "execution_count": 127,
   "metadata": {},
   "outputs": [
    {
     "data": {
      "text/plain": [
       "yas     0.237109\n",
       "maas    0.942797\n",
       "süre    1.096043\n",
       "Name: yako, dtype: float64"
      ]
     },
     "execution_count": 127,
     "metadata": {},
     "output_type": "execute_result"
    }
   ],
   "source": [
    "yenidataframe.loc[\"yako\"]"
   ]
  },
  {
   "cell_type": "code",
   "execution_count": 128,
   "metadata": {},
   "outputs": [
    {
     "data": {
      "text/plain": [
       "0.9427973878372478"
      ]
     },
     "execution_count": 128,
     "metadata": {},
     "output_type": "execute_result"
    }
   ],
   "source": [
    "yenidataframe.loc[\"yako\"][\"maas\"]"
   ]
  },
  {
   "cell_type": "code",
   "execution_count": 129,
   "metadata": {},
   "outputs": [
    {
     "data": {
      "text/plain": [
       "0.9427973878372478"
      ]
     },
     "execution_count": 129,
     "metadata": {},
     "output_type": "execute_result"
    }
   ],
   "source": [
    "yenidataframe.loc[\"yako\",\"maas\"]"
   ]
  },
  {
   "cell_type": "code",
   "execution_count": 130,
   "metadata": {},
   "outputs": [],
   "source": [
    "booleanFrame=yenidataframe[\"süre\"]<0"
   ]
  },
  {
   "cell_type": "code",
   "execution_count": 131,
   "metadata": {},
   "outputs": [
    {
     "data": {
      "text/plain": [
       "ali      False\n",
       "veli     False\n",
       "büşra     True\n",
       "yako     False\n",
       "Name: süre, dtype: bool"
      ]
     },
     "execution_count": 131,
     "metadata": {},
     "output_type": "execute_result"
    }
   ],
   "source": [
    "booleanFrame"
   ]
  },
  {
   "cell_type": "code",
   "execution_count": 132,
   "metadata": {},
   "outputs": [
    {
     "data": {
      "text/html": [
       "<div>\n",
       "<style scoped>\n",
       "    .dataframe tbody tr th:only-of-type {\n",
       "        vertical-align: middle;\n",
       "    }\n",
       "\n",
       "    .dataframe tbody tr th {\n",
       "        vertical-align: top;\n",
       "    }\n",
       "\n",
       "    .dataframe thead th {\n",
       "        text-align: right;\n",
       "    }\n",
       "</style>\n",
       "<table border=\"1\" class=\"dataframe\">\n",
       "  <thead>\n",
       "    <tr style=\"text-align: right;\">\n",
       "      <th></th>\n",
       "      <th>yas</th>\n",
       "      <th>maas</th>\n",
       "      <th>süre</th>\n",
       "    </tr>\n",
       "  </thead>\n",
       "  <tbody>\n",
       "    <tr>\n",
       "      <th>büşra</th>\n",
       "      <td>-1.609238</td>\n",
       "      <td>-1.471568</td>\n",
       "      <td>-0.203738</td>\n",
       "    </tr>\n",
       "  </tbody>\n",
       "</table>\n",
       "</div>"
      ],
      "text/plain": [
       "            yas      maas      süre\n",
       "büşra -1.609238 -1.471568 -0.203738"
      ]
     },
     "execution_count": 132,
     "metadata": {},
     "output_type": "execute_result"
    }
   ],
   "source": [
    "yenidataframe[booleanFrame]"
   ]
  },
  {
   "cell_type": "code",
   "execution_count": 133,
   "metadata": {},
   "outputs": [],
   "source": [
    "yeniindexlistesi=[\"a\",\"b\",\"c\",\"d\"]\n",
    "yenidataframe[\"yeniindex\"]=yeniindexlistesi"
   ]
  },
  {
   "cell_type": "code",
   "execution_count": 134,
   "metadata": {},
   "outputs": [
    {
     "data": {
      "text/html": [
       "<div>\n",
       "<style scoped>\n",
       "    .dataframe tbody tr th:only-of-type {\n",
       "        vertical-align: middle;\n",
       "    }\n",
       "\n",
       "    .dataframe tbody tr th {\n",
       "        vertical-align: top;\n",
       "    }\n",
       "\n",
       "    .dataframe thead th {\n",
       "        text-align: right;\n",
       "    }\n",
       "</style>\n",
       "<table border=\"1\" class=\"dataframe\">\n",
       "  <thead>\n",
       "    <tr style=\"text-align: right;\">\n",
       "      <th></th>\n",
       "      <th>yas</th>\n",
       "      <th>maas</th>\n",
       "      <th>süre</th>\n",
       "      <th>yeniindex</th>\n",
       "    </tr>\n",
       "  </thead>\n",
       "  <tbody>\n",
       "    <tr>\n",
       "      <th>ali</th>\n",
       "      <td>0.357848</td>\n",
       "      <td>-0.383827</td>\n",
       "      <td>0.385672</td>\n",
       "      <td>a</td>\n",
       "    </tr>\n",
       "    <tr>\n",
       "      <th>veli</th>\n",
       "      <td>0.126924</td>\n",
       "      <td>1.747282</td>\n",
       "      <td>0.216885</td>\n",
       "      <td>b</td>\n",
       "    </tr>\n",
       "    <tr>\n",
       "      <th>büşra</th>\n",
       "      <td>-1.609238</td>\n",
       "      <td>-1.471568</td>\n",
       "      <td>-0.203738</td>\n",
       "      <td>c</td>\n",
       "    </tr>\n",
       "    <tr>\n",
       "      <th>yako</th>\n",
       "      <td>0.237109</td>\n",
       "      <td>0.942797</td>\n",
       "      <td>1.096043</td>\n",
       "      <td>d</td>\n",
       "    </tr>\n",
       "  </tbody>\n",
       "</table>\n",
       "</div>"
      ],
      "text/plain": [
       "            yas      maas      süre yeniindex\n",
       "ali    0.357848 -0.383827  0.385672         a\n",
       "veli   0.126924  1.747282  0.216885         b\n",
       "büşra -1.609238 -1.471568 -0.203738         c\n",
       "yako   0.237109  0.942797  1.096043         d"
      ]
     },
     "execution_count": 134,
     "metadata": {},
     "output_type": "execute_result"
    }
   ],
   "source": [
    "yenidataframe"
   ]
  },
  {
   "cell_type": "code",
   "execution_count": 135,
   "metadata": {
    "scrolled": true
   },
   "outputs": [
    {
     "data": {
      "text/html": [
       "<div>\n",
       "<style scoped>\n",
       "    .dataframe tbody tr th:only-of-type {\n",
       "        vertical-align: middle;\n",
       "    }\n",
       "\n",
       "    .dataframe tbody tr th {\n",
       "        vertical-align: top;\n",
       "    }\n",
       "\n",
       "    .dataframe thead th {\n",
       "        text-align: right;\n",
       "    }\n",
       "</style>\n",
       "<table border=\"1\" class=\"dataframe\">\n",
       "  <thead>\n",
       "    <tr style=\"text-align: right;\">\n",
       "      <th></th>\n",
       "      <th>yas</th>\n",
       "      <th>maas</th>\n",
       "      <th>süre</th>\n",
       "    </tr>\n",
       "    <tr>\n",
       "      <th>yeniindex</th>\n",
       "      <th></th>\n",
       "      <th></th>\n",
       "      <th></th>\n",
       "    </tr>\n",
       "  </thead>\n",
       "  <tbody>\n",
       "    <tr>\n",
       "      <th>a</th>\n",
       "      <td>0.357848</td>\n",
       "      <td>-0.383827</td>\n",
       "      <td>0.385672</td>\n",
       "    </tr>\n",
       "    <tr>\n",
       "      <th>b</th>\n",
       "      <td>0.126924</td>\n",
       "      <td>1.747282</td>\n",
       "      <td>0.216885</td>\n",
       "    </tr>\n",
       "    <tr>\n",
       "      <th>c</th>\n",
       "      <td>-1.609238</td>\n",
       "      <td>-1.471568</td>\n",
       "      <td>-0.203738</td>\n",
       "    </tr>\n",
       "    <tr>\n",
       "      <th>d</th>\n",
       "      <td>0.237109</td>\n",
       "      <td>0.942797</td>\n",
       "      <td>1.096043</td>\n",
       "    </tr>\n",
       "  </tbody>\n",
       "</table>\n",
       "</div>"
      ],
      "text/plain": [
       "                yas      maas      süre\n",
       "yeniindex                              \n",
       "a          0.357848 -0.383827  0.385672\n",
       "b          0.126924  1.747282  0.216885\n",
       "c         -1.609238 -1.471568 -0.203738\n",
       "d          0.237109  0.942797  1.096043"
      ]
     },
     "execution_count": 135,
     "metadata": {},
     "output_type": "execute_result"
    }
   ],
   "source": [
    "yenidataframe.set_index(\"yeniindex\")"
   ]
  },
  {
   "cell_type": "code",
   "execution_count": 136,
   "metadata": {},
   "outputs": [
    {
     "data": {
      "text/html": [
       "<div>\n",
       "<style scoped>\n",
       "    .dataframe tbody tr th:only-of-type {\n",
       "        vertical-align: middle;\n",
       "    }\n",
       "\n",
       "    .dataframe tbody tr th {\n",
       "        vertical-align: top;\n",
       "    }\n",
       "\n",
       "    .dataframe thead th {\n",
       "        text-align: right;\n",
       "    }\n",
       "</style>\n",
       "<table border=\"1\" class=\"dataframe\">\n",
       "  <thead>\n",
       "    <tr style=\"text-align: right;\">\n",
       "      <th></th>\n",
       "      <th>yas</th>\n",
       "      <th>maas</th>\n",
       "      <th>süre</th>\n",
       "      <th>yeniindex</th>\n",
       "    </tr>\n",
       "  </thead>\n",
       "  <tbody>\n",
       "    <tr>\n",
       "      <th>ali</th>\n",
       "      <td>0.357848</td>\n",
       "      <td>-0.383827</td>\n",
       "      <td>0.385672</td>\n",
       "      <td>a</td>\n",
       "    </tr>\n",
       "    <tr>\n",
       "      <th>veli</th>\n",
       "      <td>0.126924</td>\n",
       "      <td>1.747282</td>\n",
       "      <td>0.216885</td>\n",
       "      <td>b</td>\n",
       "    </tr>\n",
       "    <tr>\n",
       "      <th>büşra</th>\n",
       "      <td>-1.609238</td>\n",
       "      <td>-1.471568</td>\n",
       "      <td>-0.203738</td>\n",
       "      <td>c</td>\n",
       "    </tr>\n",
       "    <tr>\n",
       "      <th>yako</th>\n",
       "      <td>0.237109</td>\n",
       "      <td>0.942797</td>\n",
       "      <td>1.096043</td>\n",
       "      <td>d</td>\n",
       "    </tr>\n",
       "  </tbody>\n",
       "</table>\n",
       "</div>"
      ],
      "text/plain": [
       "            yas      maas      süre yeniindex\n",
       "ali    0.357848 -0.383827  0.385672         a\n",
       "veli   0.126924  1.747282  0.216885         b\n",
       "büşra -1.609238 -1.471568 -0.203738         c\n",
       "yako   0.237109  0.942797  1.096043         d"
      ]
     },
     "execution_count": 136,
     "metadata": {},
     "output_type": "execute_result"
    }
   ],
   "source": [
    "yenidataframe"
   ]
  },
  {
   "cell_type": "code",
   "execution_count": 137,
   "metadata": {},
   "outputs": [],
   "source": [
    "yenidataframe.set_index(\"yeniindex\",inplace=True)"
   ]
  },
  {
   "cell_type": "code",
   "execution_count": 138,
   "metadata": {},
   "outputs": [
    {
     "data": {
      "text/html": [
       "<div>\n",
       "<style scoped>\n",
       "    .dataframe tbody tr th:only-of-type {\n",
       "        vertical-align: middle;\n",
       "    }\n",
       "\n",
       "    .dataframe tbody tr th {\n",
       "        vertical-align: top;\n",
       "    }\n",
       "\n",
       "    .dataframe thead th {\n",
       "        text-align: right;\n",
       "    }\n",
       "</style>\n",
       "<table border=\"1\" class=\"dataframe\">\n",
       "  <thead>\n",
       "    <tr style=\"text-align: right;\">\n",
       "      <th></th>\n",
       "      <th>yas</th>\n",
       "      <th>maas</th>\n",
       "      <th>süre</th>\n",
       "    </tr>\n",
       "    <tr>\n",
       "      <th>yeniindex</th>\n",
       "      <th></th>\n",
       "      <th></th>\n",
       "      <th></th>\n",
       "    </tr>\n",
       "  </thead>\n",
       "  <tbody>\n",
       "    <tr>\n",
       "      <th>a</th>\n",
       "      <td>0.357848</td>\n",
       "      <td>-0.383827</td>\n",
       "      <td>0.385672</td>\n",
       "    </tr>\n",
       "    <tr>\n",
       "      <th>b</th>\n",
       "      <td>0.126924</td>\n",
       "      <td>1.747282</td>\n",
       "      <td>0.216885</td>\n",
       "    </tr>\n",
       "    <tr>\n",
       "      <th>c</th>\n",
       "      <td>-1.609238</td>\n",
       "      <td>-1.471568</td>\n",
       "      <td>-0.203738</td>\n",
       "    </tr>\n",
       "    <tr>\n",
       "      <th>d</th>\n",
       "      <td>0.237109</td>\n",
       "      <td>0.942797</td>\n",
       "      <td>1.096043</td>\n",
       "    </tr>\n",
       "  </tbody>\n",
       "</table>\n",
       "</div>"
      ],
      "text/plain": [
       "                yas      maas      süre\n",
       "yeniindex                              \n",
       "a          0.357848 -0.383827  0.385672\n",
       "b          0.126924  1.747282  0.216885\n",
       "c         -1.609238 -1.471568 -0.203738\n",
       "d          0.237109  0.942797  1.096043"
      ]
     },
     "execution_count": 138,
     "metadata": {},
     "output_type": "execute_result"
    }
   ],
   "source": [
    "yenidataframe"
   ]
  },
  {
   "cell_type": "code",
   "execution_count": 139,
   "metadata": {},
   "outputs": [
    {
     "data": {
      "text/plain": [
       "yas     0.357848\n",
       "maas   -0.383827\n",
       "süre    0.385672\n",
       "Name: a, dtype: float64"
      ]
     },
     "execution_count": 139,
     "metadata": {},
     "output_type": "execute_result"
    }
   ],
   "source": [
    "yenidataframe.loc[\"a\"]"
   ]
  },
  {
   "cell_type": "code",
   "execution_count": 151,
   "metadata": {},
   "outputs": [],
   "source": [
    "disindex=[\"ENG\",\"ENG\",\"TUR\",\"TUR\",\"GER\",\"GER\"]\n",
    "icindex=[\"liverpool\",\"leicester\",\"galatasaray\",\"eskişehirspor\",\"dortmund\",\"münih\"]\n",
    "birlesik=list(zip(disindex,icindex))\n",
    "birlesik=pd.MultiIndex.from_tuples(birlesik)"
   ]
  },
  {
   "cell_type": "markdown",
   "metadata": {},
   "source": [
    "birlesik=pd.MultiIndex.from_tuples(birlesik)\n",
    "birlesik"
   ]
  },
  {
   "cell_type": "code",
   "execution_count": 152,
   "metadata": {},
   "outputs": [],
   "source": [
    "oyuncular=[[\"salah\",28],[\"vardy\",21],[\"muslera\",31],[\"hürriyet\",41],[\"götze\",35],[\"lewan\",32]]\n",
    "oyuncularnp=np.array(oyuncular)\n",
    "oyunculardf=pd.DataFrame(oyuncularnp,index=birlesik,columns=[\"isim\",\"yas\"])"
   ]
  },
  {
   "cell_type": "code",
   "execution_count": 153,
   "metadata": {},
   "outputs": [
    {
     "data": {
      "text/html": [
       "<div>\n",
       "<style scoped>\n",
       "    .dataframe tbody tr th:only-of-type {\n",
       "        vertical-align: middle;\n",
       "    }\n",
       "\n",
       "    .dataframe tbody tr th {\n",
       "        vertical-align: top;\n",
       "    }\n",
       "\n",
       "    .dataframe thead th {\n",
       "        text-align: right;\n",
       "    }\n",
       "</style>\n",
       "<table border=\"1\" class=\"dataframe\">\n",
       "  <thead>\n",
       "    <tr style=\"text-align: right;\">\n",
       "      <th></th>\n",
       "      <th></th>\n",
       "      <th>isim</th>\n",
       "      <th>yas</th>\n",
       "    </tr>\n",
       "  </thead>\n",
       "  <tbody>\n",
       "    <tr>\n",
       "      <th rowspan=\"2\" valign=\"top\">ENG</th>\n",
       "      <th>liverpool</th>\n",
       "      <td>salah</td>\n",
       "      <td>28</td>\n",
       "    </tr>\n",
       "    <tr>\n",
       "      <th>leicester</th>\n",
       "      <td>vardy</td>\n",
       "      <td>21</td>\n",
       "    </tr>\n",
       "    <tr>\n",
       "      <th rowspan=\"2\" valign=\"top\">TUR</th>\n",
       "      <th>galatasaray</th>\n",
       "      <td>muslera</td>\n",
       "      <td>31</td>\n",
       "    </tr>\n",
       "    <tr>\n",
       "      <th>eskişehirspor</th>\n",
       "      <td>hürriyet</td>\n",
       "      <td>41</td>\n",
       "    </tr>\n",
       "    <tr>\n",
       "      <th rowspan=\"2\" valign=\"top\">GER</th>\n",
       "      <th>dortmund</th>\n",
       "      <td>götze</td>\n",
       "      <td>35</td>\n",
       "    </tr>\n",
       "    <tr>\n",
       "      <th>münih</th>\n",
       "      <td>lewan</td>\n",
       "      <td>32</td>\n",
       "    </tr>\n",
       "  </tbody>\n",
       "</table>\n",
       "</div>"
      ],
      "text/plain": [
       "                       isim yas\n",
       "ENG liverpool         salah  28\n",
       "    leicester         vardy  21\n",
       "TUR galatasaray     muslera  31\n",
       "    eskişehirspor  hürriyet  41\n",
       "GER dortmund          götze  35\n",
       "    münih             lewan  32"
      ]
     },
     "execution_count": 153,
     "metadata": {},
     "output_type": "execute_result"
    }
   ],
   "source": [
    "oyunculardf"
   ]
  },
  {
   "cell_type": "code",
   "execution_count": 154,
   "metadata": {},
   "outputs": [
    {
     "data": {
      "text/html": [
       "<div>\n",
       "<style scoped>\n",
       "    .dataframe tbody tr th:only-of-type {\n",
       "        vertical-align: middle;\n",
       "    }\n",
       "\n",
       "    .dataframe tbody tr th {\n",
       "        vertical-align: top;\n",
       "    }\n",
       "\n",
       "    .dataframe thead th {\n",
       "        text-align: right;\n",
       "    }\n",
       "</style>\n",
       "<table border=\"1\" class=\"dataframe\">\n",
       "  <thead>\n",
       "    <tr style=\"text-align: right;\">\n",
       "      <th></th>\n",
       "      <th>isim</th>\n",
       "      <th>yas</th>\n",
       "    </tr>\n",
       "  </thead>\n",
       "  <tbody>\n",
       "    <tr>\n",
       "      <th>galatasaray</th>\n",
       "      <td>muslera</td>\n",
       "      <td>31</td>\n",
       "    </tr>\n",
       "    <tr>\n",
       "      <th>eskişehirspor</th>\n",
       "      <td>hürriyet</td>\n",
       "      <td>41</td>\n",
       "    </tr>\n",
       "  </tbody>\n",
       "</table>\n",
       "</div>"
      ],
      "text/plain": [
       "                   isim yas\n",
       "galatasaray     muslera  31\n",
       "eskişehirspor  hürriyet  41"
      ]
     },
     "execution_count": 154,
     "metadata": {},
     "output_type": "execute_result"
    }
   ],
   "source": [
    "oyunculardf.loc[\"TUR\"]"
   ]
  },
  {
   "cell_type": "code",
   "execution_count": 155,
   "metadata": {},
   "outputs": [
    {
     "data": {
      "text/html": [
       "<div>\n",
       "<style scoped>\n",
       "    .dataframe tbody tr th:only-of-type {\n",
       "        vertical-align: middle;\n",
       "    }\n",
       "\n",
       "    .dataframe tbody tr th {\n",
       "        vertical-align: top;\n",
       "    }\n",
       "\n",
       "    .dataframe thead th {\n",
       "        text-align: right;\n",
       "    }\n",
       "</style>\n",
       "<table border=\"1\" class=\"dataframe\">\n",
       "  <thead>\n",
       "    <tr style=\"text-align: right;\">\n",
       "      <th></th>\n",
       "      <th></th>\n",
       "      <th>isim</th>\n",
       "      <th>yas</th>\n",
       "    </tr>\n",
       "    <tr>\n",
       "      <th>ülke</th>\n",
       "      <th>takım</th>\n",
       "      <th></th>\n",
       "      <th></th>\n",
       "    </tr>\n",
       "  </thead>\n",
       "  <tbody>\n",
       "    <tr>\n",
       "      <th rowspan=\"2\" valign=\"top\">ENG</th>\n",
       "      <th>liverpool</th>\n",
       "      <td>salah</td>\n",
       "      <td>28</td>\n",
       "    </tr>\n",
       "    <tr>\n",
       "      <th>leicester</th>\n",
       "      <td>vardy</td>\n",
       "      <td>21</td>\n",
       "    </tr>\n",
       "    <tr>\n",
       "      <th rowspan=\"2\" valign=\"top\">TUR</th>\n",
       "      <th>galatasaray</th>\n",
       "      <td>muslera</td>\n",
       "      <td>31</td>\n",
       "    </tr>\n",
       "    <tr>\n",
       "      <th>eskişehirspor</th>\n",
       "      <td>hürriyet</td>\n",
       "      <td>41</td>\n",
       "    </tr>\n",
       "    <tr>\n",
       "      <th rowspan=\"2\" valign=\"top\">GER</th>\n",
       "      <th>dortmund</th>\n",
       "      <td>götze</td>\n",
       "      <td>35</td>\n",
       "    </tr>\n",
       "    <tr>\n",
       "      <th>münih</th>\n",
       "      <td>lewan</td>\n",
       "      <td>32</td>\n",
       "    </tr>\n",
       "  </tbody>\n",
       "</table>\n",
       "</div>"
      ],
      "text/plain": [
       "                        isim yas\n",
       "ülke takım                      \n",
       "ENG  liverpool         salah  28\n",
       "     leicester         vardy  21\n",
       "TUR  galatasaray     muslera  31\n",
       "     eskişehirspor  hürriyet  41\n",
       "GER  dortmund          götze  35\n",
       "     münih             lewan  32"
      ]
     },
     "execution_count": 155,
     "metadata": {},
     "output_type": "execute_result"
    }
   ],
   "source": [
    "oyunculardf.index.names=[\"ülke\",\"takım\"]\n",
    "oyunculardf"
   ]
  },
  {
   "cell_type": "code",
   "execution_count": null,
   "metadata": {},
   "outputs": [],
   "source": []
  },
  {
   "cell_type": "code",
   "execution_count": null,
   "metadata": {},
   "outputs": [],
   "source": []
  },
  {
   "cell_type": "code",
   "execution_count": null,
   "metadata": {},
   "outputs": [],
   "source": []
  }
 ],
 "metadata": {
  "kernelspec": {
   "display_name": "Python 3",
   "language": "python",
   "name": "python3"
  },
  "language_info": {
   "codemirror_mode": {
    "name": "ipython",
    "version": 3
   },
   "file_extension": ".py",
   "mimetype": "text/x-python",
   "name": "python",
   "nbconvert_exporter": "python",
   "pygments_lexer": "ipython3",
   "version": "3.8.3"
  }
 },
 "nbformat": 4,
 "nbformat_minor": 4
}
